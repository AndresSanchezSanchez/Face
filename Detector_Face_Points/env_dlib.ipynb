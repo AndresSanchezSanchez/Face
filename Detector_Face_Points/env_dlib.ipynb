{
 "cells": [
  {
   "cell_type": "code",
   "execution_count": 2,
   "id": "630f5eed",
   "metadata": {},
   "outputs": [
    {
     "ename": "ModuleNotFoundError",
     "evalue": "No module named 'dlib'",
     "output_type": "error",
     "traceback": [
      "\u001b[1;31m---------------------------------------------------------------------------\u001b[0m",
      "\u001b[1;31mModuleNotFoundError\u001b[0m                       Traceback (most recent call last)",
      "Input \u001b[1;32mIn [2]\u001b[0m, in \u001b[0;36m<cell line: 11>\u001b[1;34m()\u001b[0m\n\u001b[0;32m      1\u001b[0m \u001b[38;5;66;03m# Para trabajar con un entorno virtual en un cuaderno de jupyter se instala en el kernel\u001b[39;00m\n\u001b[0;32m      2\u001b[0m \u001b[38;5;66;03m# el entorno virtual de la sieguiente manera:\u001b[39;00m\n\u001b[0;32m      3\u001b[0m     \u001b[38;5;66;03m# ipython kernel install --user --name=venv\u001b[39;00m\n\u001b[1;32m   (...)\u001b[0m\n\u001b[0;32m      8\u001b[0m \u001b[38;5;66;03m##########################################################################################\u001b[39;00m\n\u001b[0;32m      9\u001b[0m \u001b[38;5;66;03m# Se usa la librería dlib y opencv para mostrar los 68 puntos característicos del rostro\u001b[39;00m\n\u001b[0;32m     10\u001b[0m \u001b[38;5;28;01mimport\u001b[39;00m \u001b[38;5;21;01mcv2\u001b[39;00m \u001b[38;5;28;01mas\u001b[39;00m \u001b[38;5;21;01mcv\u001b[39;00m\n\u001b[1;32m---> 11\u001b[0m \u001b[38;5;28;01mimport\u001b[39;00m \u001b[38;5;21;01mdlib\u001b[39;00m\n\u001b[0;32m     12\u001b[0m \u001b[38;5;28;01mimport\u001b[39;00m \u001b[38;5;21;01mnumpy\u001b[39;00m \u001b[38;5;28;01mas\u001b[39;00m \u001b[38;5;21;01mnp\u001b[39;00m\n\u001b[0;32m     14\u001b[0m \u001b[38;5;66;03m# Se abre la cámara para leer la imagen\u001b[39;00m\n",
      "\u001b[1;31mModuleNotFoundError\u001b[0m: No module named 'dlib'"
     ]
    }
   ],
   "source": [
    "# Para trabajar con un entorno virtual en un cuaderno de jupyter se instala en el kernel\n",
    "# el entorno virtual de la sieguiente manera:\n",
    "    # ipython kernel install --user --name=venv\n",
    "# Después se abre un cuaderno cualquiera, y se clica en los siguientes pasos:\n",
    "    # Kernel --> Change kernel --> \"name_kernel\"\n",
    "# En la siguiente página viene detallado\n",
    "    # https://es.acervolima.com/uso-de-jupyter-notebook-en-un-entorno-virtual/\n",
    "##########################################################################################\n",
    "# Se usa la librería dlib y opencv para mostrar los 68 puntos característicos del rostro\n",
    "import cv2 as cv\n",
    "import dlib\n",
    "import numpy as np\n",
    "\n",
    "# Se abre la cámara para leer la imagen\n",
    "cap = cv.VideoCapture(0)\n",
    "\n",
    "# Se crea el modelo para detectar los 68 puntos\n",
    "detector = dlib.get_frontal_face_detector()\n",
    "predictor = dlib.shape_predictor(\"shape_predictor_68_face_landmarks.dat\")\n",
    "\n",
    "# Se abre el bucle while para mostrar los resultados por pantalla\n",
    "while True:\n",
    "    ret, img = cap.read()\n",
    "    print(ret)\n",
    "    img_gray = cv.cvtColor(img,cv.COLOR_BGR2GRAY)\n",
    "\n",
    "    # Se usa el modelo aplicado a la imagen en escala de grises\n",
    "    faces = detector(img_gray)\n",
    "    # se abre un bucle for para identificar los puntos\n",
    "    for face in faces:\n",
    "        # Se predicen los puntos con la imagen obtenida y el modelo\n",
    "        landmark = predictor(img_gray,face)\n",
    "        # Se identifican los 68 puntos\n",
    "        landmark_points = [(landmark.part(n).x,landmark.part(n).y) for n in range(0,68)]\n",
    "        cv.circle(img,(landmark.part(n).x,landmark.part(n).y), 3,\n",
    "            (int(np.random.rand()*255),int(np.random.rand()*255),int(np.random.rand()*255))\n",
    "            ,-1)\n",
    "\n",
    "    cv.imshow(img)\n",
    "    key = cv.waitKey(0)\n",
    "    if key == 27: break\n",
    "\n",
    "cap.release()\n",
    "cv.destroyAllWindows()"
   ]
  },
  {
   "cell_type": "code",
   "execution_count": null,
   "id": "3a30f8e3",
   "metadata": {},
   "outputs": [],
   "source": []
  }
 ],
 "metadata": {
  "kernelspec": {
   "display_name": "env_dlib",
   "language": "python",
   "name": "env_dlib"
  },
  "language_info": {
   "codemirror_mode": {
    "name": "ipython",
    "version": 3
   },
   "file_extension": ".py",
   "mimetype": "text/x-python",
   "name": "python",
   "nbconvert_exporter": "python",
   "pygments_lexer": "ipython3",
   "version": "3.9.12"
  }
 },
 "nbformat": 4,
 "nbformat_minor": 5
}
